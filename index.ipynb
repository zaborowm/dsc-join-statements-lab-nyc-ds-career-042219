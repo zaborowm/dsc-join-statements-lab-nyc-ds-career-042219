{
 "cells": [
  {
   "cell_type": "markdown",
   "metadata": {},
   "source": [
    "# Join Statements - Lab\n",
    "\n",
    "## Introduction\n",
    "\n",
    "In this lab, you'll practice your knowledge of join statements, using various types of joins and various methods for specifying the links between them.\n",
    "\n",
    "## Objectives\n",
    "\n",
    "You will be able to:\n",
    "- Write queries that make use of various types of Joins\n",
    "- Join tables using foreign keys"
   ]
  },
  {
   "cell_type": "markdown",
   "metadata": {},
   "source": [
    "## CRM Schema\n",
    "\n",
    "In almost all cases, rather then just working with a single table you will typically need data from multiple tables. \n",
    "Doing this requires the use of **joins ** using shared columns from the two tables. \n",
    "\n",
    "In this lab, you'll use the same Customer Relationship Management (CRM) database that you saw from the previous lesson.\n",
    "<img src='images/Database-Schema.png' width=\"600\">"
   ]
  },
  {
   "cell_type": "markdown",
   "metadata": {},
   "source": [
    "## Connecting to the Database\n",
    "Import the necessary packages and connect to the database **data.sqlite**."
   ]
  },
  {
   "cell_type": "code",
   "execution_count": 1,
   "metadata": {},
   "outputs": [],
   "source": [
    "#Your code here\n",
    "import sqlite3 \n",
    "conn = sqlite3.connect('data.sqlite')\n",
    "c = conn.cursor()\n",
    "import pandas as pd"
   ]
  },
  {
   "cell_type": "markdown",
   "metadata": {},
   "source": [
    "## Display the names of all the employees in Boston.\n",
    "Hint: join the employees and customers tables."
   ]
  },
  {
   "cell_type": "code",
   "execution_count": null,
   "metadata": {},
   "outputs": [],
   "source": []
  },
  {
   "cell_type": "code",
   "execution_count": 2,
   "metadata": {},
   "outputs": [
    {
     "data": {
      "text/html": [
       "<div>\n",
       "<style scoped>\n",
       "    .dataframe tbody tr th:only-of-type {\n",
       "        vertical-align: middle;\n",
       "    }\n",
       "\n",
       "    .dataframe tbody tr th {\n",
       "        vertical-align: top;\n",
       "    }\n",
       "\n",
       "    .dataframe thead th {\n",
       "        text-align: right;\n",
       "    }\n",
       "</style>\n",
       "<table border=\"1\" class=\"dataframe\">\n",
       "  <thead>\n",
       "    <tr style=\"text-align: right;\">\n",
       "      <th></th>\n",
       "      <th>firstName</th>\n",
       "      <th>lastName</th>\n",
       "    </tr>\n",
       "  </thead>\n",
       "  <tbody>\n",
       "    <tr>\n",
       "      <th>0</th>\n",
       "      <td>Steve</td>\n",
       "      <td>Patterson</td>\n",
       "    </tr>\n",
       "    <tr>\n",
       "      <th>1</th>\n",
       "      <td>Julie</td>\n",
       "      <td>Firrelli</td>\n",
       "    </tr>\n",
       "  </tbody>\n",
       "</table>\n",
       "</div>"
      ],
      "text/plain": [
       "  firstName   lastName\n",
       "0     Steve  Patterson\n",
       "1     Julie   Firrelli"
      ]
     },
     "execution_count": 2,
     "metadata": {},
     "output_type": "execute_result"
    }
   ],
   "source": [
    "#Your code here\n",
    "\n",
    "c.execute(\"\"\"select firstname, lastname from employees\n",
    "                        join customers\n",
    "                        on employees.employeeNumber = customers.salesRepEmployeeNumber\n",
    "                        where customers.city = \"Boston\";\n",
    "                       \"\"\")\n",
    "df = pd.DataFrame(c.fetchall()) #Take results and create dataframe\n",
    "df.columns = [i[0] for i in c.description]\n",
    "df.head()\n",
    "\n",
    "#cur.execute(\"\"\"select firstName, lastName from employees join offices using(officeCode) where city = 'Boston';\"\"\")\n"
   ]
  },
  {
   "cell_type": "markdown",
   "metadata": {},
   "source": [
    "## Do any offices have no employees?\n",
    "Hint: Combine the employees and offices tables and use a group by."
   ]
  },
  {
   "cell_type": "code",
   "execution_count": 15,
   "metadata": {},
   "outputs": [
    {
     "data": {
      "text/html": [
       "<div>\n",
       "<style scoped>\n",
       "    .dataframe tbody tr th:only-of-type {\n",
       "        vertical-align: middle;\n",
       "    }\n",
       "\n",
       "    .dataframe tbody tr th {\n",
       "        vertical-align: top;\n",
       "    }\n",
       "\n",
       "    .dataframe thead th {\n",
       "        text-align: right;\n",
       "    }\n",
       "</style>\n",
       "<table border=\"1\" class=\"dataframe\">\n",
       "  <thead>\n",
       "    <tr style=\"text-align: right;\">\n",
       "      <th></th>\n",
       "      <th>city</th>\n",
       "      <th>count(*)</th>\n",
       "    </tr>\n",
       "  </thead>\n",
       "  <tbody>\n",
       "    <tr>\n",
       "      <th>0</th>\n",
       "      <td>Boston</td>\n",
       "      <td>2</td>\n",
       "    </tr>\n",
       "    <tr>\n",
       "      <th>1</th>\n",
       "      <td>London</td>\n",
       "      <td>2</td>\n",
       "    </tr>\n",
       "    <tr>\n",
       "      <th>2</th>\n",
       "      <td>NYC</td>\n",
       "      <td>2</td>\n",
       "    </tr>\n",
       "    <tr>\n",
       "      <th>3</th>\n",
       "      <td>Paris</td>\n",
       "      <td>5</td>\n",
       "    </tr>\n",
       "    <tr>\n",
       "      <th>4</th>\n",
       "      <td>San Francisco</td>\n",
       "      <td>6</td>\n",
       "    </tr>\n",
       "  </tbody>\n",
       "</table>\n",
       "</div>"
      ],
      "text/plain": [
       "            city  count(*)\n",
       "0         Boston         2\n",
       "1         London         2\n",
       "2            NYC         2\n",
       "3          Paris         5\n",
       "4  San Francisco         6"
      ]
     },
     "execution_count": 15,
     "metadata": {},
     "output_type": "execute_result"
    }
   ],
   "source": [
    "#Your code here\n",
    "c.execute(\"\"\"select city, count(*) from offices\n",
    "                        left join employees using(officeCode) group by 1;\n",
    "                       \"\"\")\n",
    "df = pd.DataFrame(c.fetchall()) #Take results and create dataframe\n",
    "df.columns = [i[0] for i in c.description]\n",
    "df.head()\n",
    "#cur.execute(\"\"\"select city, officeCode\n",
    "#                    count(*)\n",
    "#                    from offices\n",
    "#                    left join employees\n",
    "#                    using(officeCode)\n",
    "#                    group by 1;\"\"\")"
   ]
  },
  {
   "cell_type": "markdown",
   "metadata": {},
   "source": [
    "## Write 3 Questions of your own and answer them"
   ]
  },
  {
   "cell_type": "code",
   "execution_count": null,
   "metadata": {},
   "outputs": [],
   "source": [
    "# Answers will vary\n",
    "how many offices?\n",
    "how many employees?"
   ]
  },
  {
   "cell_type": "code",
   "execution_count": 7,
   "metadata": {},
   "outputs": [
    {
     "data": {
      "text/html": [
       "<div>\n",
       "<style scoped>\n",
       "    .dataframe tbody tr th:only-of-type {\n",
       "        vertical-align: middle;\n",
       "    }\n",
       "\n",
       "    .dataframe tbody tr th {\n",
       "        vertical-align: top;\n",
       "    }\n",
       "\n",
       "    .dataframe thead th {\n",
       "        text-align: right;\n",
       "    }\n",
       "</style>\n",
       "<table border=\"1\" class=\"dataframe\">\n",
       "  <thead>\n",
       "    <tr style=\"text-align: right;\">\n",
       "      <th></th>\n",
       "      <th>officeCode</th>\n",
       "      <th>city</th>\n",
       "      <th>phone</th>\n",
       "      <th>addressLine1</th>\n",
       "      <th>addressLine2</th>\n",
       "      <th>state</th>\n",
       "      <th>country</th>\n",
       "      <th>postalCode</th>\n",
       "      <th>territory</th>\n",
       "    </tr>\n",
       "  </thead>\n",
       "  <tbody>\n",
       "    <tr>\n",
       "      <th>0</th>\n",
       "      <td>1</td>\n",
       "      <td>San Francisco</td>\n",
       "      <td>+1 650 219 4782</td>\n",
       "      <td>100 Market Street</td>\n",
       "      <td>Suite 300</td>\n",
       "      <td>CA</td>\n",
       "      <td>USA</td>\n",
       "      <td>94080</td>\n",
       "      <td>NA</td>\n",
       "    </tr>\n",
       "    <tr>\n",
       "      <th>1</th>\n",
       "      <td>2</td>\n",
       "      <td>Boston</td>\n",
       "      <td>+1 215 837 0825</td>\n",
       "      <td>1550 Court Place</td>\n",
       "      <td>Suite 102</td>\n",
       "      <td>MA</td>\n",
       "      <td>USA</td>\n",
       "      <td>02107</td>\n",
       "      <td>NA</td>\n",
       "    </tr>\n",
       "    <tr>\n",
       "      <th>2</th>\n",
       "      <td>3</td>\n",
       "      <td>NYC</td>\n",
       "      <td>+1 212 555 3000</td>\n",
       "      <td>523 East 53rd Street</td>\n",
       "      <td>apt. 5A</td>\n",
       "      <td>NY</td>\n",
       "      <td>USA</td>\n",
       "      <td>10022</td>\n",
       "      <td>NA</td>\n",
       "    </tr>\n",
       "    <tr>\n",
       "      <th>3</th>\n",
       "      <td>4</td>\n",
       "      <td>Paris</td>\n",
       "      <td>+33 14 723 4404</td>\n",
       "      <td>43 Rue Jouffroy D'abbans</td>\n",
       "      <td></td>\n",
       "      <td></td>\n",
       "      <td>France</td>\n",
       "      <td>75017</td>\n",
       "      <td>EMEA</td>\n",
       "    </tr>\n",
       "    <tr>\n",
       "      <th>4</th>\n",
       "      <td>5</td>\n",
       "      <td>Tokyo</td>\n",
       "      <td>+81 33 224 5000</td>\n",
       "      <td>4-1 Kioicho</td>\n",
       "      <td></td>\n",
       "      <td>Chiyoda-Ku</td>\n",
       "      <td>Japan</td>\n",
       "      <td>102-8578</td>\n",
       "      <td>Japan</td>\n",
       "    </tr>\n",
       "  </tbody>\n",
       "</table>\n",
       "</div>"
      ],
      "text/plain": [
       "  officeCode           city            phone              addressLine1  \\\n",
       "0          1  San Francisco  +1 650 219 4782         100 Market Street   \n",
       "1          2         Boston  +1 215 837 0825          1550 Court Place   \n",
       "2          3            NYC  +1 212 555 3000      523 East 53rd Street   \n",
       "3          4          Paris  +33 14 723 4404  43 Rue Jouffroy D'abbans   \n",
       "4          5          Tokyo  +81 33 224 5000               4-1 Kioicho   \n",
       "\n",
       "  addressLine2       state country postalCode territory  \n",
       "0    Suite 300          CA     USA      94080        NA  \n",
       "1    Suite 102          MA     USA      02107        NA  \n",
       "2      apt. 5A          NY     USA      10022        NA  \n",
       "3                           France      75017      EMEA  \n",
       "4               Chiyoda-Ku   Japan   102-8578     Japan  "
      ]
     },
     "execution_count": 7,
     "metadata": {},
     "output_type": "execute_result"
    }
   ],
   "source": [
    "# Your code here\n",
    "c.execute(\"\"\"select * from offices;\n",
    "                       \"\"\")\n",
    "df = pd.DataFrame(c.fetchall()) #Take results and create dataframe\n",
    "df.columns = [i[0] for i in c.description]\n",
    "df.head()"
   ]
  },
  {
   "cell_type": "code",
   "execution_count": 12,
   "metadata": {},
   "outputs": [
    {
     "data": {
      "text/html": [
       "<div>\n",
       "<style scoped>\n",
       "    .dataframe tbody tr th:only-of-type {\n",
       "        vertical-align: middle;\n",
       "    }\n",
       "\n",
       "    .dataframe tbody tr th {\n",
       "        vertical-align: top;\n",
       "    }\n",
       "\n",
       "    .dataframe thead th {\n",
       "        text-align: right;\n",
       "    }\n",
       "</style>\n",
       "<table border=\"1\" class=\"dataframe\">\n",
       "  <thead>\n",
       "    <tr style=\"text-align: right;\">\n",
       "      <th></th>\n",
       "      <th>officeCode</th>\n",
       "    </tr>\n",
       "  </thead>\n",
       "  <tbody>\n",
       "    <tr>\n",
       "      <th>0</th>\n",
       "      <td>1</td>\n",
       "    </tr>\n",
       "    <tr>\n",
       "      <th>1</th>\n",
       "      <td>6</td>\n",
       "    </tr>\n",
       "    <tr>\n",
       "      <th>2</th>\n",
       "      <td>4</td>\n",
       "    </tr>\n",
       "    <tr>\n",
       "      <th>3</th>\n",
       "      <td>2</td>\n",
       "    </tr>\n",
       "    <tr>\n",
       "      <th>4</th>\n",
       "      <td>3</td>\n",
       "    </tr>\n",
       "  </tbody>\n",
       "</table>\n",
       "</div>"
      ],
      "text/plain": [
       "  officeCode\n",
       "0          1\n",
       "1          6\n",
       "2          4\n",
       "3          2\n",
       "4          3"
      ]
     },
     "execution_count": 12,
     "metadata": {},
     "output_type": "execute_result"
    }
   ],
   "source": [
    "# Your code here\n",
    "c.execute(\"\"\"select distinct(officeCode) from employees;\n",
    "                       \"\"\")\n",
    "df = pd.DataFrame(c.fetchall()) #Take results and create dataframe\n",
    "df.columns = [i[0] for i in c.description]\n",
    "df.head()"
   ]
  },
  {
   "cell_type": "code",
   "execution_count": null,
   "metadata": {},
   "outputs": [],
   "source": [
    "# Your code here"
   ]
  },
  {
   "cell_type": "markdown",
   "metadata": {},
   "source": [
    "## Level Up: Display the names of each product each employee has sold"
   ]
  },
  {
   "cell_type": "code",
   "execution_count": 18,
   "metadata": {},
   "outputs": [
    {
     "name": "stdout",
     "output_type": "stream",
     "text": [
      "2996\n"
     ]
    },
    {
     "data": {
      "text/html": [
       "<div>\n",
       "<style scoped>\n",
       "    .dataframe tbody tr th:only-of-type {\n",
       "        vertical-align: middle;\n",
       "    }\n",
       "\n",
       "    .dataframe tbody tr th {\n",
       "        vertical-align: top;\n",
       "    }\n",
       "\n",
       "    .dataframe thead th {\n",
       "        text-align: right;\n",
       "    }\n",
       "</style>\n",
       "<table border=\"1\" class=\"dataframe\">\n",
       "  <thead>\n",
       "    <tr style=\"text-align: right;\">\n",
       "      <th></th>\n",
       "      <th>0</th>\n",
       "      <th>1</th>\n",
       "      <th>2</th>\n",
       "    </tr>\n",
       "  </thead>\n",
       "  <tbody>\n",
       "    <tr>\n",
       "      <th>0</th>\n",
       "      <td>Leslie</td>\n",
       "      <td>Jennings</td>\n",
       "      <td>1958 Setra Bus</td>\n",
       "    </tr>\n",
       "    <tr>\n",
       "      <th>1</th>\n",
       "      <td>Leslie</td>\n",
       "      <td>Jennings</td>\n",
       "      <td>1940 Ford Pickup Truck</td>\n",
       "    </tr>\n",
       "    <tr>\n",
       "      <th>2</th>\n",
       "      <td>Leslie</td>\n",
       "      <td>Jennings</td>\n",
       "      <td>1939 Cadillac Limousine</td>\n",
       "    </tr>\n",
       "    <tr>\n",
       "      <th>3</th>\n",
       "      <td>Leslie</td>\n",
       "      <td>Jennings</td>\n",
       "      <td>1996 Peterbilt 379 Stake Bed with Outrigger</td>\n",
       "    </tr>\n",
       "    <tr>\n",
       "      <th>4</th>\n",
       "      <td>Leslie</td>\n",
       "      <td>Jennings</td>\n",
       "      <td>1968 Ford Mustang</td>\n",
       "    </tr>\n",
       "  </tbody>\n",
       "</table>\n",
       "</div>"
      ],
      "text/plain": [
       "        0         1                                            2\n",
       "0  Leslie  Jennings                               1958 Setra Bus\n",
       "1  Leslie  Jennings                       1940 Ford Pickup Truck\n",
       "2  Leslie  Jennings                      1939 Cadillac Limousine\n",
       "3  Leslie  Jennings  1996 Peterbilt 379 Stake Bed with Outrigger\n",
       "4  Leslie  Jennings                            1968 Ford Mustang"
      ]
     },
     "execution_count": 18,
     "metadata": {},
     "output_type": "execute_result"
    }
   ],
   "source": [
    "# Your code here\n",
    "c.execute(\"\"\"select firstName, lastName,\n",
    "                      productName\n",
    "                      from employees e\n",
    "                      join\n",
    "                      customers c\n",
    "                      on e.employeeNumber = c.salesRepEmployeeNumber\n",
    "                      join orders o\n",
    "                      using(customerNumber)\n",
    "                      join orderdetails od\n",
    "                      using(orderNumber)\n",
    "                      join products p\n",
    "                      using(productCode)\"\"\")\n",
    "df = pd.DataFrame(c.fetchall())\n",
    "print(len(df))\n",
    "df.head()"
   ]
  },
  {
   "cell_type": "markdown",
   "metadata": {},
   "source": [
    "## Level Up: Display the Number of Products each employee has sold"
   ]
  },
  {
   "cell_type": "code",
   "execution_count": 19,
   "metadata": {},
   "outputs": [
    {
     "data": {
      "text/html": [
       "<div>\n",
       "<style scoped>\n",
       "    .dataframe tbody tr th:only-of-type {\n",
       "        vertical-align: middle;\n",
       "    }\n",
       "\n",
       "    .dataframe tbody tr th {\n",
       "        vertical-align: top;\n",
       "    }\n",
       "\n",
       "    .dataframe thead th {\n",
       "        text-align: right;\n",
       "    }\n",
       "</style>\n",
       "<table border=\"1\" class=\"dataframe\">\n",
       "  <thead>\n",
       "    <tr style=\"text-align: right;\">\n",
       "      <th></th>\n",
       "      <th></th>\n",
       "      <th>2</th>\n",
       "    </tr>\n",
       "    <tr>\n",
       "      <th>0</th>\n",
       "      <th>1</th>\n",
       "      <th></th>\n",
       "    </tr>\n",
       "  </thead>\n",
       "  <tbody>\n",
       "    <tr>\n",
       "      <th>Andy</th>\n",
       "      <th>Fixter</th>\n",
       "      <td>185</td>\n",
       "    </tr>\n",
       "    <tr>\n",
       "      <th>Barry</th>\n",
       "      <th>Jones</th>\n",
       "      <td>220</td>\n",
       "    </tr>\n",
       "    <tr>\n",
       "      <th>Foon Yue</th>\n",
       "      <th>Tseng</th>\n",
       "      <td>142</td>\n",
       "    </tr>\n",
       "    <tr>\n",
       "      <th>George</th>\n",
       "      <th>Vanauf</th>\n",
       "      <td>211</td>\n",
       "    </tr>\n",
       "    <tr>\n",
       "      <th>Gerard</th>\n",
       "      <th>Hernandez</th>\n",
       "      <td>396</td>\n",
       "    </tr>\n",
       "    <tr>\n",
       "      <th>Julie</th>\n",
       "      <th>Firrelli</th>\n",
       "      <td>124</td>\n",
       "    </tr>\n",
       "    <tr>\n",
       "      <th>Larry</th>\n",
       "      <th>Bott</th>\n",
       "      <td>236</td>\n",
       "    </tr>\n",
       "    <tr>\n",
       "      <th rowspan=\"2\" valign=\"top\">Leslie</th>\n",
       "      <th>Jennings</th>\n",
       "      <td>331</td>\n",
       "    </tr>\n",
       "    <tr>\n",
       "      <th>Thompson</th>\n",
       "      <td>114</td>\n",
       "    </tr>\n",
       "    <tr>\n",
       "      <th>Loui</th>\n",
       "      <th>Bondur</th>\n",
       "      <td>177</td>\n",
       "    </tr>\n",
       "    <tr>\n",
       "      <th>Mami</th>\n",
       "      <th>Nishi</th>\n",
       "      <td>137</td>\n",
       "    </tr>\n",
       "    <tr>\n",
       "      <th>Martin</th>\n",
       "      <th>Gerard</th>\n",
       "      <td>114</td>\n",
       "    </tr>\n",
       "    <tr>\n",
       "      <th>Pamela</th>\n",
       "      <th>Castillo</th>\n",
       "      <td>272</td>\n",
       "    </tr>\n",
       "    <tr>\n",
       "      <th>Peter</th>\n",
       "      <th>Marsh</th>\n",
       "      <td>185</td>\n",
       "    </tr>\n",
       "    <tr>\n",
       "      <th>Steve</th>\n",
       "      <th>Patterson</th>\n",
       "      <td>152</td>\n",
       "    </tr>\n",
       "  </tbody>\n",
       "</table>\n",
       "</div>"
      ],
      "text/plain": [
       "                      2\n",
       "0        1             \n",
       "Andy     Fixter     185\n",
       "Barry    Jones      220\n",
       "Foon Yue Tseng      142\n",
       "George   Vanauf     211\n",
       "Gerard   Hernandez  396\n",
       "Julie    Firrelli   124\n",
       "Larry    Bott       236\n",
       "Leslie   Jennings   331\n",
       "         Thompson   114\n",
       "Loui     Bondur     177\n",
       "Mami     Nishi      137\n",
       "Martin   Gerard     114\n",
       "Pamela   Castillo   272\n",
       "Peter    Marsh      185\n",
       "Steve    Patterson  152"
      ]
     },
     "execution_count": 19,
     "metadata": {},
     "output_type": "execute_result"
    }
   ],
   "source": [
    "df.groupby([0,1]).count()"
   ]
  },
  {
   "cell_type": "code",
   "execution_count": null,
   "metadata": {},
   "outputs": [],
   "source": [
    "#Your code here\n",
    "c.execute(\"\"\"select sum(productName)         \n",
    "                      from products p\n",
    "                      join\n",
    "                      customers c\n",
    "                      on e.employeeNumber = c.salesRepEmployeeNumber\n",
    "                      join orders o\n",
    "                      using(customerNumber)\n",
    "                      join orderdetails od\n",
    "                      using(orderNumber)\n",
    "                      join products p\n",
    "                      using(productCode)\"\"\")\n",
    "df = pd.DataFrame(c.fetchall())\n",
    "print(len(df))\n",
    "df.head()"
   ]
  },
  {
   "cell_type": "markdown",
   "metadata": {},
   "source": [
    "## Summary"
   ]
  },
  {
   "cell_type": "markdown",
   "metadata": {},
   "source": [
    "Congrats! You now know how to use join statements, along with leveraging your foreign keys knowledge!"
   ]
  }
 ],
 "metadata": {
  "kernelspec": {
   "display_name": "Python 3",
   "language": "python",
   "name": "python3"
  },
  "language_info": {
   "codemirror_mode": {
    "name": "ipython",
    "version": 3
   },
   "file_extension": ".py",
   "mimetype": "text/x-python",
   "name": "python",
   "nbconvert_exporter": "python",
   "pygments_lexer": "ipython3",
   "version": "3.6.6"
  }
 },
 "nbformat": 4,
 "nbformat_minor": 2
}
